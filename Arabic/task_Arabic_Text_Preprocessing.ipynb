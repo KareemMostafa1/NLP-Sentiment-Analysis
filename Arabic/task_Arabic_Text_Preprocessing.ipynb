{
  "nbformat": 4,
  "nbformat_minor": 0,
  "metadata": {
    "colab": {
      "provenance": []
    },
    "kernelspec": {
      "name": "python3",
      "display_name": "Python 3"
    },
    "language_info": {
      "name": "python"
    }
  },
  "cells": [
    {
      "cell_type": "code",
      "source": [
        "!pip install emoji\n"
      ],
      "metadata": {
        "colab": {
          "base_uri": "https://localhost:8080/"
        },
        "id": "iKPNxLQGb5Ms",
        "outputId": "e7b8c40a-5f33-4f32-a09f-016a6005e38a"
      },
      "execution_count": 11,
      "outputs": [
        {
          "output_type": "stream",
          "name": "stdout",
          "text": [
            "Collecting emoji\n",
            "  Downloading emoji-2.14.1-py3-none-any.whl.metadata (5.7 kB)\n",
            "Downloading emoji-2.14.1-py3-none-any.whl (590 kB)\n",
            "\u001b[2K   \u001b[90m━━━━━━━━━━━━━━━━━━━━━━━━━━━━━━━━━━━━━━━━\u001b[0m \u001b[32m590.6/590.6 kB\u001b[0m \u001b[31m7.2 MB/s\u001b[0m eta \u001b[36m0:00:00\u001b[0m\n",
            "\u001b[?25hInstalling collected packages: emoji\n",
            "Successfully installed emoji-2.14.1\n"
          ]
        }
      ]
    },
    {
      "cell_type": "markdown",
      "source": [
        "## Data Loading"
      ],
      "metadata": {
        "id": "Zq7kI7R-fSE8"
      }
    },
    {
      "cell_type": "code",
      "source": [
        "import kagglehub\n",
        "# Download Arabic Data\n",
        "path = kagglehub.dataset_download(\"mksaad/arabic-sentiment-twitter-corpus\")\n",
        "print(\"Path to dataset files:\", path)"
      ],
      "metadata": {
        "colab": {
          "base_uri": "https://localhost:8080/"
        },
        "id": "6jYKodG1m9WH",
        "outputId": "6d2fac5c-5e8a-4cc7-c0ab-c2d7ab3c7d56"
      },
      "execution_count": 1,
      "outputs": [
        {
          "output_type": "stream",
          "name": "stdout",
          "text": [
            "Path to dataset files: /kaggle/input/arabic-sentiment-twitter-corpus\n"
          ]
        }
      ]
    },
    {
      "cell_type": "code",
      "source": [
        "!mkdir /content/Data\n",
        "!cp -r /root/.cache/kagglehub/datasets/mksaad/arabic-sentiment-twitter-corpus/versions/2 /content/Data"
      ],
      "metadata": {
        "colab": {
          "base_uri": "https://localhost:8080/"
        },
        "id": "Qr-BjrZfrusk",
        "outputId": "07705cc8-a153-4d67-e2ee-ff31fc17a6f7"
      },
      "execution_count": null,
      "outputs": [
        {
          "output_type": "stream",
          "name": "stdout",
          "text": [
            "mkdir: cannot create directory ‘/content/Data’: File exists\n"
          ]
        }
      ]
    },
    {
      "cell_type": "code",
      "source": [
        "import pandas as pd\n",
        "import numpy as np\n",
        "\n",
        "pos_train = pd.read_csv('//kaggle/input/arabic-sentiment-twitter-corpus/train_Arabic_tweets_positive_20190413.tsv',sep='\\t',encoding='utf-8',names = [\"label\", \"text\"])\n",
        "pos_test = pd.read_csv('/kaggle/input/arabic-sentiment-twitter-corpus/test_Arabic_tweets_positive_20190413.tsv',sep='\\t',encoding='utf-8',names = [\"label\", \"text\"])\n",
        "\n",
        "neg_train = pd.read_csv('/kaggle/input/arabic-sentiment-twitter-corpus/train_Arabic_tweets_negative_20190413.tsv',sep='\\t',encoding='utf-8',names = [\"label\", \"text\"])\n",
        "neg_test = pd.read_csv('/kaggle/input/arabic-sentiment-twitter-corpus/test_Arabic_tweets_negative_20190413.tsv',sep='\\t',encoding='utf-8',names = [\"label\", \"text\"])\n",
        "\n",
        "train = pd.concat([pos_train,neg_train])\n",
        "test = pd.concat([pos_test,neg_test])"
      ],
      "metadata": {
        "id": "o0wBTFjKr6p2"
      },
      "execution_count": 2,
      "outputs": []
    },
    {
      "cell_type": "markdown",
      "source": [
        "## Data Exploration"
      ],
      "metadata": {
        "id": "_hN_-ZWpfWFA"
      }
    },
    {
      "cell_type": "code",
      "source": [
        "train"
      ],
      "metadata": {
        "colab": {
          "base_uri": "https://localhost:8080/",
          "height": 698
        },
        "id": "QQ2TcaC7tGZ0",
        "outputId": "cbba1d2a-d1e7-4746-9e46-7fd95d9c1c36"
      },
      "execution_count": 3,
      "outputs": [
        {
          "output_type": "execute_result",
          "data": {
            "text/plain": [
              "      label                                               text\n",
              "0       pos  نحن الذين يتحول كل ما نود أن نقوله إلى دعاء لل...\n",
              "1       pos  وفي النهاية لن يبقىٰ معك آحدإلا من رأىٰ الجمال...\n",
              "2       pos                                    من الخير نفسه 💛\n",
              "3       pos  #زلزل_الملعب_نصرنا_بيلعب كن عالي الهمه ولا ترض...\n",
              "4       pos  الشيء الوحيد الذي وصلوا فيه للعالمية هو : المس...\n",
              "...     ...                                                ...\n",
              "22509   neg  كيف ترى أورانوس لو كان يقع مكان القمر ؟ 💙💙 كوك...\n",
              "22510   neg                                  احسدك على الايم 💔\n",
              "22511   neg                            لأول مرة ما بنكون سوا 💔\n",
              "22512   neg                                 بقله ليش يا واطي 🤔\n",
              "22513   neg  قد طال صبري في النوى إذ تركتني كئيبا ؛ غريبا ب...\n",
              "\n",
              "[45275 rows x 2 columns]"
            ],
            "text/html": [
              "\n",
              "  <div id=\"df-456b0a5b-d549-4842-9674-e8a06cdb5d20\" class=\"colab-df-container\">\n",
              "    <div>\n",
              "<style scoped>\n",
              "    .dataframe tbody tr th:only-of-type {\n",
              "        vertical-align: middle;\n",
              "    }\n",
              "\n",
              "    .dataframe tbody tr th {\n",
              "        vertical-align: top;\n",
              "    }\n",
              "\n",
              "    .dataframe thead th {\n",
              "        text-align: right;\n",
              "    }\n",
              "</style>\n",
              "<table border=\"1\" class=\"dataframe\">\n",
              "  <thead>\n",
              "    <tr style=\"text-align: right;\">\n",
              "      <th></th>\n",
              "      <th>label</th>\n",
              "      <th>text</th>\n",
              "    </tr>\n",
              "  </thead>\n",
              "  <tbody>\n",
              "    <tr>\n",
              "      <th>0</th>\n",
              "      <td>pos</td>\n",
              "      <td>نحن الذين يتحول كل ما نود أن نقوله إلى دعاء لل...</td>\n",
              "    </tr>\n",
              "    <tr>\n",
              "      <th>1</th>\n",
              "      <td>pos</td>\n",
              "      <td>وفي النهاية لن يبقىٰ معك آحدإلا من رأىٰ الجمال...</td>\n",
              "    </tr>\n",
              "    <tr>\n",
              "      <th>2</th>\n",
              "      <td>pos</td>\n",
              "      <td>من الخير نفسه 💛</td>\n",
              "    </tr>\n",
              "    <tr>\n",
              "      <th>3</th>\n",
              "      <td>pos</td>\n",
              "      <td>#زلزل_الملعب_نصرنا_بيلعب كن عالي الهمه ولا ترض...</td>\n",
              "    </tr>\n",
              "    <tr>\n",
              "      <th>4</th>\n",
              "      <td>pos</td>\n",
              "      <td>الشيء الوحيد الذي وصلوا فيه للعالمية هو : المس...</td>\n",
              "    </tr>\n",
              "    <tr>\n",
              "      <th>...</th>\n",
              "      <td>...</td>\n",
              "      <td>...</td>\n",
              "    </tr>\n",
              "    <tr>\n",
              "      <th>22509</th>\n",
              "      <td>neg</td>\n",
              "      <td>كيف ترى أورانوس لو كان يقع مكان القمر ؟ 💙💙 كوك...</td>\n",
              "    </tr>\n",
              "    <tr>\n",
              "      <th>22510</th>\n",
              "      <td>neg</td>\n",
              "      <td>احسدك على الايم 💔</td>\n",
              "    </tr>\n",
              "    <tr>\n",
              "      <th>22511</th>\n",
              "      <td>neg</td>\n",
              "      <td>لأول مرة ما بنكون سوا 💔</td>\n",
              "    </tr>\n",
              "    <tr>\n",
              "      <th>22512</th>\n",
              "      <td>neg</td>\n",
              "      <td>بقله ليش يا واطي 🤔</td>\n",
              "    </tr>\n",
              "    <tr>\n",
              "      <th>22513</th>\n",
              "      <td>neg</td>\n",
              "      <td>قد طال صبري في النوى إذ تركتني كئيبا ؛ غريبا ب...</td>\n",
              "    </tr>\n",
              "  </tbody>\n",
              "</table>\n",
              "<p>45275 rows × 2 columns</p>\n",
              "</div>\n",
              "    <div class=\"colab-df-buttons\">\n",
              "\n",
              "  <div class=\"colab-df-container\">\n",
              "    <button class=\"colab-df-convert\" onclick=\"convertToInteractive('df-456b0a5b-d549-4842-9674-e8a06cdb5d20')\"\n",
              "            title=\"Convert this dataframe to an interactive table.\"\n",
              "            style=\"display:none;\">\n",
              "\n",
              "  <svg xmlns=\"http://www.w3.org/2000/svg\" height=\"24px\" viewBox=\"0 -960 960 960\">\n",
              "    <path d=\"M120-120v-720h720v720H120Zm60-500h600v-160H180v160Zm220 220h160v-160H400v160Zm0 220h160v-160H400v160ZM180-400h160v-160H180v160Zm440 0h160v-160H620v160ZM180-180h160v-160H180v160Zm440 0h160v-160H620v160Z\"/>\n",
              "  </svg>\n",
              "    </button>\n",
              "\n",
              "  <style>\n",
              "    .colab-df-container {\n",
              "      display:flex;\n",
              "      gap: 12px;\n",
              "    }\n",
              "\n",
              "    .colab-df-convert {\n",
              "      background-color: #E8F0FE;\n",
              "      border: none;\n",
              "      border-radius: 50%;\n",
              "      cursor: pointer;\n",
              "      display: none;\n",
              "      fill: #1967D2;\n",
              "      height: 32px;\n",
              "      padding: 0 0 0 0;\n",
              "      width: 32px;\n",
              "    }\n",
              "\n",
              "    .colab-df-convert:hover {\n",
              "      background-color: #E2EBFA;\n",
              "      box-shadow: 0px 1px 2px rgba(60, 64, 67, 0.3), 0px 1px 3px 1px rgba(60, 64, 67, 0.15);\n",
              "      fill: #174EA6;\n",
              "    }\n",
              "\n",
              "    .colab-df-buttons div {\n",
              "      margin-bottom: 4px;\n",
              "    }\n",
              "\n",
              "    [theme=dark] .colab-df-convert {\n",
              "      background-color: #3B4455;\n",
              "      fill: #D2E3FC;\n",
              "    }\n",
              "\n",
              "    [theme=dark] .colab-df-convert:hover {\n",
              "      background-color: #434B5C;\n",
              "      box-shadow: 0px 1px 3px 1px rgba(0, 0, 0, 0.15);\n",
              "      filter: drop-shadow(0px 1px 2px rgba(0, 0, 0, 0.3));\n",
              "      fill: #FFFFFF;\n",
              "    }\n",
              "  </style>\n",
              "\n",
              "    <script>\n",
              "      const buttonEl =\n",
              "        document.querySelector('#df-456b0a5b-d549-4842-9674-e8a06cdb5d20 button.colab-df-convert');\n",
              "      buttonEl.style.display =\n",
              "        google.colab.kernel.accessAllowed ? 'block' : 'none';\n",
              "\n",
              "      async function convertToInteractive(key) {\n",
              "        const element = document.querySelector('#df-456b0a5b-d549-4842-9674-e8a06cdb5d20');\n",
              "        const dataTable =\n",
              "          await google.colab.kernel.invokeFunction('convertToInteractive',\n",
              "                                                    [key], {});\n",
              "        if (!dataTable) return;\n",
              "\n",
              "        const docLinkHtml = 'Like what you see? Visit the ' +\n",
              "          '<a target=\"_blank\" href=https://colab.research.google.com/notebooks/data_table.ipynb>data table notebook</a>'\n",
              "          + ' to learn more about interactive tables.';\n",
              "        element.innerHTML = '';\n",
              "        dataTable['output_type'] = 'display_data';\n",
              "        await google.colab.output.renderOutput(dataTable, element);\n",
              "        const docLink = document.createElement('div');\n",
              "        docLink.innerHTML = docLinkHtml;\n",
              "        element.appendChild(docLink);\n",
              "      }\n",
              "    </script>\n",
              "  </div>\n",
              "\n",
              "\n",
              "    <div id=\"df-4bc8949b-0850-47fa-844b-775f5d75e804\">\n",
              "      <button class=\"colab-df-quickchart\" onclick=\"quickchart('df-4bc8949b-0850-47fa-844b-775f5d75e804')\"\n",
              "                title=\"Suggest charts\"\n",
              "                style=\"display:none;\">\n",
              "\n",
              "<svg xmlns=\"http://www.w3.org/2000/svg\" height=\"24px\"viewBox=\"0 0 24 24\"\n",
              "     width=\"24px\">\n",
              "    <g>\n",
              "        <path d=\"M19 3H5c-1.1 0-2 .9-2 2v14c0 1.1.9 2 2 2h14c1.1 0 2-.9 2-2V5c0-1.1-.9-2-2-2zM9 17H7v-7h2v7zm4 0h-2V7h2v10zm4 0h-2v-4h2v4z\"/>\n",
              "    </g>\n",
              "</svg>\n",
              "      </button>\n",
              "\n",
              "<style>\n",
              "  .colab-df-quickchart {\n",
              "      --bg-color: #E8F0FE;\n",
              "      --fill-color: #1967D2;\n",
              "      --hover-bg-color: #E2EBFA;\n",
              "      --hover-fill-color: #174EA6;\n",
              "      --disabled-fill-color: #AAA;\n",
              "      --disabled-bg-color: #DDD;\n",
              "  }\n",
              "\n",
              "  [theme=dark] .colab-df-quickchart {\n",
              "      --bg-color: #3B4455;\n",
              "      --fill-color: #D2E3FC;\n",
              "      --hover-bg-color: #434B5C;\n",
              "      --hover-fill-color: #FFFFFF;\n",
              "      --disabled-bg-color: #3B4455;\n",
              "      --disabled-fill-color: #666;\n",
              "  }\n",
              "\n",
              "  .colab-df-quickchart {\n",
              "    background-color: var(--bg-color);\n",
              "    border: none;\n",
              "    border-radius: 50%;\n",
              "    cursor: pointer;\n",
              "    display: none;\n",
              "    fill: var(--fill-color);\n",
              "    height: 32px;\n",
              "    padding: 0;\n",
              "    width: 32px;\n",
              "  }\n",
              "\n",
              "  .colab-df-quickchart:hover {\n",
              "    background-color: var(--hover-bg-color);\n",
              "    box-shadow: 0 1px 2px rgba(60, 64, 67, 0.3), 0 1px 3px 1px rgba(60, 64, 67, 0.15);\n",
              "    fill: var(--button-hover-fill-color);\n",
              "  }\n",
              "\n",
              "  .colab-df-quickchart-complete:disabled,\n",
              "  .colab-df-quickchart-complete:disabled:hover {\n",
              "    background-color: var(--disabled-bg-color);\n",
              "    fill: var(--disabled-fill-color);\n",
              "    box-shadow: none;\n",
              "  }\n",
              "\n",
              "  .colab-df-spinner {\n",
              "    border: 2px solid var(--fill-color);\n",
              "    border-color: transparent;\n",
              "    border-bottom-color: var(--fill-color);\n",
              "    animation:\n",
              "      spin 1s steps(1) infinite;\n",
              "  }\n",
              "\n",
              "  @keyframes spin {\n",
              "    0% {\n",
              "      border-color: transparent;\n",
              "      border-bottom-color: var(--fill-color);\n",
              "      border-left-color: var(--fill-color);\n",
              "    }\n",
              "    20% {\n",
              "      border-color: transparent;\n",
              "      border-left-color: var(--fill-color);\n",
              "      border-top-color: var(--fill-color);\n",
              "    }\n",
              "    30% {\n",
              "      border-color: transparent;\n",
              "      border-left-color: var(--fill-color);\n",
              "      border-top-color: var(--fill-color);\n",
              "      border-right-color: var(--fill-color);\n",
              "    }\n",
              "    40% {\n",
              "      border-color: transparent;\n",
              "      border-right-color: var(--fill-color);\n",
              "      border-top-color: var(--fill-color);\n",
              "    }\n",
              "    60% {\n",
              "      border-color: transparent;\n",
              "      border-right-color: var(--fill-color);\n",
              "    }\n",
              "    80% {\n",
              "      border-color: transparent;\n",
              "      border-right-color: var(--fill-color);\n",
              "      border-bottom-color: var(--fill-color);\n",
              "    }\n",
              "    90% {\n",
              "      border-color: transparent;\n",
              "      border-bottom-color: var(--fill-color);\n",
              "    }\n",
              "  }\n",
              "</style>\n",
              "\n",
              "      <script>\n",
              "        async function quickchart(key) {\n",
              "          const quickchartButtonEl =\n",
              "            document.querySelector('#' + key + ' button');\n",
              "          quickchartButtonEl.disabled = true;  // To prevent multiple clicks.\n",
              "          quickchartButtonEl.classList.add('colab-df-spinner');\n",
              "          try {\n",
              "            const charts = await google.colab.kernel.invokeFunction(\n",
              "                'suggestCharts', [key], {});\n",
              "          } catch (error) {\n",
              "            console.error('Error during call to suggestCharts:', error);\n",
              "          }\n",
              "          quickchartButtonEl.classList.remove('colab-df-spinner');\n",
              "          quickchartButtonEl.classList.add('colab-df-quickchart-complete');\n",
              "        }\n",
              "        (() => {\n",
              "          let quickchartButtonEl =\n",
              "            document.querySelector('#df-4bc8949b-0850-47fa-844b-775f5d75e804 button');\n",
              "          quickchartButtonEl.style.display =\n",
              "            google.colab.kernel.accessAllowed ? 'block' : 'none';\n",
              "        })();\n",
              "      </script>\n",
              "    </div>\n",
              "\n",
              "  <div id=\"id_58c902e6-7214-4efc-b1c1-75c180578e29\">\n",
              "    <style>\n",
              "      .colab-df-generate {\n",
              "        background-color: #E8F0FE;\n",
              "        border: none;\n",
              "        border-radius: 50%;\n",
              "        cursor: pointer;\n",
              "        display: none;\n",
              "        fill: #1967D2;\n",
              "        height: 32px;\n",
              "        padding: 0 0 0 0;\n",
              "        width: 32px;\n",
              "      }\n",
              "\n",
              "      .colab-df-generate:hover {\n",
              "        background-color: #E2EBFA;\n",
              "        box-shadow: 0px 1px 2px rgba(60, 64, 67, 0.3), 0px 1px 3px 1px rgba(60, 64, 67, 0.15);\n",
              "        fill: #174EA6;\n",
              "      }\n",
              "\n",
              "      [theme=dark] .colab-df-generate {\n",
              "        background-color: #3B4455;\n",
              "        fill: #D2E3FC;\n",
              "      }\n",
              "\n",
              "      [theme=dark] .colab-df-generate:hover {\n",
              "        background-color: #434B5C;\n",
              "        box-shadow: 0px 1px 3px 1px rgba(0, 0, 0, 0.15);\n",
              "        filter: drop-shadow(0px 1px 2px rgba(0, 0, 0, 0.3));\n",
              "        fill: #FFFFFF;\n",
              "      }\n",
              "    </style>\n",
              "    <button class=\"colab-df-generate\" onclick=\"generateWithVariable('train')\"\n",
              "            title=\"Generate code using this dataframe.\"\n",
              "            style=\"display:none;\">\n",
              "\n",
              "  <svg xmlns=\"http://www.w3.org/2000/svg\" height=\"24px\"viewBox=\"0 0 24 24\"\n",
              "       width=\"24px\">\n",
              "    <path d=\"M7,19H8.4L18.45,9,17,7.55,7,17.6ZM5,21V16.75L18.45,3.32a2,2,0,0,1,2.83,0l1.4,1.43a1.91,1.91,0,0,1,.58,1.4,1.91,1.91,0,0,1-.58,1.4L9.25,21ZM18.45,9,17,7.55Zm-12,3A5.31,5.31,0,0,0,4.9,8.1,5.31,5.31,0,0,0,1,6.5,5.31,5.31,0,0,0,4.9,4.9,5.31,5.31,0,0,0,6.5,1,5.31,5.31,0,0,0,8.1,4.9,5.31,5.31,0,0,0,12,6.5,5.46,5.46,0,0,0,6.5,12Z\"/>\n",
              "  </svg>\n",
              "    </button>\n",
              "    <script>\n",
              "      (() => {\n",
              "      const buttonEl =\n",
              "        document.querySelector('#id_58c902e6-7214-4efc-b1c1-75c180578e29 button.colab-df-generate');\n",
              "      buttonEl.style.display =\n",
              "        google.colab.kernel.accessAllowed ? 'block' : 'none';\n",
              "\n",
              "      buttonEl.onclick = () => {\n",
              "        google.colab.notebook.generateWithVariable('train');\n",
              "      }\n",
              "      })();\n",
              "    </script>\n",
              "  </div>\n",
              "\n",
              "    </div>\n",
              "  </div>\n"
            ],
            "application/vnd.google.colaboratory.intrinsic+json": {
              "type": "dataframe",
              "variable_name": "train",
              "summary": "{\n  \"name\": \"train\",\n  \"rows\": 45275,\n  \"fields\": [\n    {\n      \"column\": \"label\",\n      \"properties\": {\n        \"dtype\": \"category\",\n        \"num_unique_values\": 2,\n        \"samples\": [\n          \"neg\",\n          \"pos\"\n        ],\n        \"semantic_type\": \"\",\n        \"description\": \"\"\n      }\n    },\n    {\n      \"column\": \"text\",\n      \"properties\": {\n        \"dtype\": \"string\",\n        \"num_unique_values\": 29449,\n        \"samples\": [\n          \"\\u0647\\u0648 \\u0627\\u0644\\u0648\\u062d\\u064a\\u062f \\u0623\\u063a\\u0644\\u064a \\u0645\\u0627 \\u0641 \\u0627\\u0644\\u062d\\u064a\\u0627\\u0647 \\u0645\\u0644\\u0627\\u064a\\u064a\\u0646 \\u0628\\u062a\\u0642\\u0648\\u0644 \\u0627\\u0646\\u0635\\u0631\\u0647 \\u064a\\u0627\\u0627\\u0644\\u0644\\u0647 \\ud83d\\udc50 \\ud83d\\udc99\",\n          \"~~\\u2606 #\\u0647\\u0646\\u0627\\u0627_\\u0627\\u0644\\u0648\\u062d\\u064a \\u270b \\u062a\\u062d\\u0630\\u064a\\u0631 \\u0644\\u0644\\u062c\\u0645\\u0627\\u0647\\u064a\\u0631\\u26a0\\u0627\\u0644\\u0635\\u0641\\u0631\\u0627\\u0627\\u0621 \\u0633\\u0644\\u0627\\u0645\\u062a\\u0643 \\u062e\\u064a\\u0631 \\u0645\\u0646 \\u0627\\u0644\\u062f\\u0646\\u064a\\u0627 \\u0648\\u0645\\u0627\\u0641\\u064a\\u0647\\u0627\\ud83d\\udea9 \\u26d4\\u26a0\\u270b \\u062c\\u0645\\u064a\\u0639 \\u0627\\u0644\\u0637\\u0631\\u0642 \\u0627\\u0644\\u0645\\u0624\\u062f\\u064a\\u0629 \\u0644\\u0644\\u0645\\u0644\\u0639\\u0628 \\u0645\\u063a\\u0644\\u0642\\u0629 \\u0648\\u063a\\u0631\\u062f\\u0632\\u0647\\u2026\"\n        ],\n        \"semantic_type\": \"\",\n        \"description\": \"\"\n      }\n    }\n  ]\n}"
            }
          },
          "metadata": {},
          "execution_count": 3
        },
        {
          "output_type": "stream",
          "name": "stdout",
          "text": [
            "Warning: total number of rows (45275) exceeds max_rows (20000). Limiting to first (20000) rows.\n"
          ]
        }
      ]
    },
    {
      "cell_type": "markdown",
      "source": [
        "exploring class Balance"
      ],
      "metadata": {
        "id": "Y6sWaDBkfaHB"
      }
    },
    {
      "cell_type": "code",
      "source": [
        "import matplotlib.pyplot as plt\n",
        "import seaborn as sns\n",
        "\n",
        "# Count labels in both sets\n",
        "train_counts = train['label'].value_counts()\n",
        "test_counts = test['label'].value_counts()\n",
        "\n",
        "# Create subplots\n",
        "fig, axes = plt.subplots(1, 2, figsize=(10, 4))\n",
        "\n",
        "# Plot training distribution\n",
        "sns.barplot(x=train_counts.index, y=train_counts.values, palette='Blues', ax=axes[0])\n",
        "axes[0].set_title(\"Class distribution \")\n",
        "axes[0].set_xlabel(\"class\")\n",
        "axes[0].set_ylabel(\"Count\")\n",
        "\n",
        "# Plot testing distribution\n",
        "sns.barplot(x=test_counts.index, y=test_counts.values, palette='Oranges', ax=axes[1])\n",
        "axes[1].set_title(\"Class distribution \")\n",
        "axes[1].set_xlabel(\"class\")\n",
        "axes[1].set_ylabel(\"Count\")\n",
        "\n",
        "# Rotate x-axis labels if needed\n",
        "for ax in axes:\n",
        "    ax.set_xticklabels(ax.get_xticklabels(), rotation=45)\n",
        "\n",
        "plt.tight_layout()\n",
        "plt.show()\n"
      ],
      "metadata": {
        "colab": {
          "base_uri": "https://localhost:8080/",
          "height": 650
        },
        "id": "s4YpVj8sfeXL",
        "outputId": "24a8cd52-6ce1-4234-b72f-3001dd39ff8b"
      },
      "execution_count": 23,
      "outputs": [
        {
          "output_type": "stream",
          "name": "stderr",
          "text": [
            "/tmp/ipython-input-23-1815240479.py:12: FutureWarning: \n",
            "\n",
            "Passing `palette` without assigning `hue` is deprecated and will be removed in v0.14.0. Assign the `x` variable to `hue` and set `legend=False` for the same effect.\n",
            "\n",
            "  sns.barplot(x=train_counts.index, y=train_counts.values, palette='Blues', ax=axes[0])\n",
            "/tmp/ipython-input-23-1815240479.py:18: FutureWarning: \n",
            "\n",
            "Passing `palette` without assigning `hue` is deprecated and will be removed in v0.14.0. Assign the `x` variable to `hue` and set `legend=False` for the same effect.\n",
            "\n",
            "  sns.barplot(x=test_counts.index, y=test_counts.values, palette='Oranges', ax=axes[1])\n",
            "/tmp/ipython-input-23-1815240479.py:25: UserWarning: set_ticklabels() should only be used with a fixed number of ticks, i.e. after set_ticks() or using a FixedLocator.\n",
            "  ax.set_xticklabels(ax.get_xticklabels(), rotation=45)\n",
            "/tmp/ipython-input-23-1815240479.py:25: UserWarning: set_ticklabels() should only be used with a fixed number of ticks, i.e. after set_ticks() or using a FixedLocator.\n",
            "  ax.set_xticklabels(ax.get_xticklabels(), rotation=45)\n"
          ]
        },
        {
          "output_type": "display_data",
          "data": {
            "text/plain": [
              "<Figure size 1000x400 with 2 Axes>"
            ],
            "image/png": "[encoded data removed]"
          },
          "metadata": {}
        }
      ]
    },
    {
      "cell_type": "markdown",
      "source": [
        "Data is obviously balanced and we will work on it as it is"
      ],
      "metadata": {
        "id": "b5XVCRfBfvhw"
      }
    },
    {
      "cell_type": "markdown",
      "source": [
        "## Build data Pipeline"
      ],
      "metadata": {
        "id": "Ec3XJxGbf1_2"
      }
    },
    {
      "cell_type": "code",
      "source": [
        "import pandas as pd\n",
        "import re\n",
        "import emoji\n",
        "import nltk\n",
        "from nltk.corpus import stopwords\n",
        "from nltk.stem.isri import ISRIStemmer\n",
        "from sklearn.pipeline import Pipeline\n",
        "from sklearn.base import BaseEstimator, TransformerMixin\n",
        "from sklearn.feature_extraction.text import CountVectorizer\n",
        "from sklearn.linear_model import LogisticRegression\n",
        "from sklearn.model_selection import train_test_split\n",
        "from sklearn.metrics import classification_report\n",
        "from sklearn.metrics import accuracy_score\n",
        "\n",
        "nltk.download('stopwords')# Define stopwords\n",
        "arabic_stopwords = set(stopwords.words('arabic'))\n",
        "custom_stopwords = set(['مثلا', 'يعني'])\n",
        "all_stopwords = arabic_stopwords.union(custom_stopwords)\n",
        "number_map = {\n",
        "                      '٠': 'صفر',\n",
        "                      '١': 'واحد',\n",
        "                      '٢': 'اثنان',\n",
        "                      '٣': 'ثلاثة',\n",
        "                      '٤': 'أربعة',\n",
        "                      '٥': 'خمسة',\n",
        "                      '٦': 'ستة',\n",
        "                      '٧': 'سبعة',\n",
        "                      '٨': 'ثمانية',\n",
        "                      '٩': 'تسعة',\n",
        "                      '0': 'صفر',\n",
        "                      '1': 'واحد',\n",
        "                      '2': 'اثنان',\n",
        "                      '3': 'ثلاثة',\n",
        "                      '4': 'أربعة',\n",
        "                      '5': 'خمسة',\n",
        "                      '6': 'ستة',\n",
        "                      '7': 'سبعة',\n",
        "                      '8': 'ثمانية',\n",
        "                      '9': 'تسعة'\n",
        "                  }\n",
        "# Define normalization\n",
        "def normalize_arabic(text):\n",
        "    text = re.sub('[إأآٱا]', 'ا', text)\n",
        "    text = re.sub('[ىٰ]', 'ي', text)\n",
        "    text = re.sub('[ؤئ]', 'ء', text)\n",
        "    text = re.sub('ة', 'ه', text)\n",
        "    return text\n",
        "\n",
        "# Remove punctuation (but keep emoji tokens)\n",
        "def remove_unwanted_punct(text):\n",
        "    return re.sub(r'[^\\w\\s\\u0600-\\u06FF:_]', '', text)\n",
        "\n",
        "# Clean + preprocess + stem\n",
        "class ArabicPreprocessor(BaseEstimator, TransformerMixin):\n",
        "    def __init__(self, apply_stemming=False):\n",
        "        self.apply_stemming = apply_stemming\n",
        "        self.stemmer = ISRIStemmer()\n",
        "\n",
        "    def fit(self, X, y=None):\n",
        "        return self\n",
        "\n",
        "    def transform(self, X):\n",
        "        return X.apply(self._preprocess)\n",
        "\n",
        "    def _preprocess(self, text):\n",
        "        text = str(text)\n",
        "        text = emoji.demojize(text)\n",
        "        for arabic, name in number_map.items():\n",
        "            text = text.replace(arabic, name)\n",
        "        text = re.sub(r'[\\u0617-\\u061A\\u064B-\\u0652]', '', text)\n",
        "        text = normalize_arabic(text)\n",
        "        text = remove_unwanted_punct(text)\n",
        "        text = re.sub(r'(.)\\1+', r'\\1', text)\n",
        "        text = re.sub(r'\\s+', ' ', text).strip()\n",
        "\n",
        "        # Tokenize and remove stopwords\n",
        "        tokens = [w for w in text.split() if w not in all_stopwords]\n",
        "\n",
        "        # Optional stemming\n",
        "        if self.apply_stemming:\n",
        "            tokens = [self.stemmer.stem(w) for w in tokens]\n",
        "\n",
        "        return ' '.join(tokens)\n"
      ],
      "metadata": {
        "id": "i8KfpTwEux9q",
        "colab": {
          "base_uri": "https://localhost:8080/"
        },
        "outputId": "8ff5e1ea-07c9-425c-d47a-27ea974af95c"
      },
      "execution_count": 18,
      "outputs": [
        {
          "output_type": "stream",
          "name": "stderr",
          "text": [
            "[nltk_data] Downloading package stopwords to /root/nltk_data...\n",
            "[nltk_data]   Package stopwords is already up-to-date!\n"
          ]
        }
      ]
    },
    {
      "cell_type": "markdown",
      "source": [
        "## Run pipeline and evaluation"
      ],
      "metadata": {
        "id": "RcLUx2Tqf9ho"
      }
    },
    {
      "cell_type": "code",
      "source": [
        "import seaborn as sns\n",
        "import matplotlib.pyplot as plt\n",
        "from sklearn.metrics import confusion_matrix\n",
        "\n",
        "\n",
        "# Build pipeline\n",
        "pipeline = Pipeline([\n",
        "    ('preprocess', ArabicPreprocessor(apply_stemming=True)),\n",
        "    ('vectorizer', CountVectorizer(ngram_range=(1,2))),        # unigrams + bigrams\n",
        "    ('classifier', LogisticRegression(max_iter=1000))\n",
        "])\n",
        "X_train=train['text']\n",
        "y_train=train['label']\n",
        "X_test=test['text']\n",
        "y_test=test['label']\n",
        "# Train\n",
        "pipeline.fit(X_train, y_train)\n",
        "\n",
        "# Evaluate\n",
        "\n",
        "y_pred = pipeline.predict(X_test)\n",
        "accuracy = accuracy_score(y_test, y_pred)\n",
        "print(f\"Accuracy: {accuracy:.3f}\")\n",
        "print(classification_report(y_test, y_pred, digits=3))\n",
        "cm = confusion_matrix(y_test, y_pred, labels=['pos','neg'])\n",
        "plt.figure(figsize=(5,4))\n",
        "sns.heatmap(cm, annot=True, fmt='d', cmap='Blues', xticklabels=['pos','neg'], yticklabels=['pos','neg'])\n",
        "plt.xlabel('Predicted')\n",
        "plt.ylabel('Actual')\n",
        "plt.title('Confusion Matrix')\n",
        "plt.tight_layout()\n",
        "plt.show()"
      ],
      "metadata": {
        "id": "nQ98_VTmuyA5",
        "colab": {
          "base_uri": "https://localhost:8080/",
          "height": 581
        },
        "outputId": "bccf3928-5939-4d68-8bde-12722b86e759"
      },
      "execution_count": 22,
      "outputs": [
        {
          "output_type": "stream",
          "name": "stdout",
          "text": [
            "Accuracy: 0.942\n",
            "              precision    recall  f1-score   support\n",
            "\n",
            "         neg      0.948     0.935     0.941      5768\n",
            "         pos      0.936     0.949     0.942      5752\n",
            "\n",
            "    accuracy                          0.942     11520\n",
            "   macro avg      0.942     0.942     0.942     11520\n",
            "weighted avg      0.942     0.942     0.942     11520\n",
            "\n"
          ]
        },
        {
          "output_type": "display_data",
          "data": {
            "text/plain": [
              "<Figure size 500x400 with 2 Axes>"
            ],
            "image/png": "[encoded data removed]"
          },
          "metadata": {}
        }
      ]
    },
    {
      "cell_type": "code",
      "source": [],
      "metadata": {
        "id": "MUUXK1pPuyDG"
      },
      "execution_count": null,
      "outputs": []
    },
    {
      "cell_type": "code",
      "source": [],
      "metadata": {
        "id": "48QJyZoCuyFW"
      },
      "execution_count": null,
      "outputs": []
    }
  ]
}